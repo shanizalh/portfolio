{
 "cells": [
  {
   "cell_type": "markdown",
   "metadata": {},
   "source": [
    "# Building a database for crime reports\n",
    "\n",
    "In this project, we will build a database for storing data related with crimes that occured in Boston. The dataset is available in the file boston.csv .\n",
    "\n",
    "The goal of this project is to create a database named crimes_db with a table – boston_crimes – with appropriate datatypes for storing the data from the boston.csv file. We will be creating the table inside a schema named crimes. We will also create the readonly and readwrite groups with the appropriate privileges. Finally, we will also need to create one user for each of these groups."
   ]
  },
  {
   "cell_type": "markdown",
   "metadata": {
    "collapsed": true
   },
   "source": [
    "We will start by creating a database for storing our crime data as well as a schema for containing the tables."
   ]
  },
  {
   "cell_type": "code",
   "execution_count": null,
   "metadata": {
    "collapsed": false
   },
   "outputs": [],
   "source": [
    "import psycopg2\n",
    "conn = psycopg2.connect(\"dbname=dq user=dq\")\n",
    "cur = conn.cursor()\n",
    "conn.autocommit = True\n",
    "cur.execute(\"CREATE DATABASE crime_db;\")\n",
    "conn.autocommit = False\n",
    "conn.close()"
   ]
  },
  {
   "cell_type": "code",
   "execution_count": null,
   "metadata": {
    "collapsed": false
   },
   "outputs": [],
   "source": [
    "conn = psycopg2.connect(\"dbname=crime_db user=dq\")\n",
    "cur = conn.cursor()\n",
    "cur.execute(\"CREATE SCHEMA crimes;\")\n",
    "conn.commit()"
   ]
  },
  {
   "cell_type": "markdown",
   "metadata": {},
   "source": [
    "We now have a database and a schema — we are ready to start creating tables. Before we do that, let's gather some data about our crime dataset so that we can more easily select the right datatypes to use in our table.\n",
    "\n",
    "Let's start by reading the column names from the boston.csv file as well as the first row. In this way we will have them at hand throughout this guided project so that we can easily take a look at them at any moment."
   ]
  },
  {
   "cell_type": "code",
   "execution_count": 3,
   "metadata": {
    "collapsed": false
   },
   "outputs": [],
   "source": [
    "import csv\n",
    "with open('boston.csv','r') as file:\n",
    "    reader = csv.reader(file)\n",
    "    list_file = list(reader)\n",
    "    col_headers = list_file[0]\n",
    "    first_row = list_file[1]"
   ]
  },
  {
   "cell_type": "markdown",
   "metadata": {},
   "source": [
    "We now have access to the column headers and the first row of data. This will help us when we create the table as we will not have to remember the names of the columns and using the first row of data we can easily recall what kind of data is stored in each column.\n",
    "\n",
    "Before we create a table for storing the crime data, we need to identify the proper datatypes for the columns. To help us with that, let's create a function — get_col_value_set() — that given the name of a CSV file and a column index (starting a 0) that computes a Python set with all distinct values contained in that column.\n",
    "\n",
    "This function will be useful for two reasons:\n",
    "1. Checking whether an enumerated datatype might be a good choice for representing a column.\n",
    "2. Computing the maximum length of any text-like column to select appropriate sizes for VARCHAR columns.\n"
   ]
  },
  {
   "cell_type": "code",
   "execution_count": 4,
   "metadata": {
    "collapsed": false
   },
   "outputs": [
    {
     "name": "stdout",
     "output_type": "stream",
     "text": [
      "There are 298329 values in the set of column index 0.\n",
      "The maximum character length in this column is 6.\n",
      "\n",
      "There are 219 values in the set of column index 1.\n",
      "The maximum character length in this column is 4.\n",
      "\n",
      "There are 239 values in the set of column index 2.\n",
      "The maximum character length in this column is 58.\n",
      "\n",
      "There are 1177 values in the set of column index 3.\n",
      "The maximum character length in this column is 10.\n",
      "\n",
      "There are 7 values in the set of column index 4.\n",
      "The maximum character length in this column is 9.\n",
      "\n",
      "There are 18177 values in the set of column index 5.\n",
      "The maximum character length in this column is 11.\n",
      "\n",
      "There are 18177 values in the set of column index 6.\n",
      "The maximum character length in this column is 12.\n",
      "\n"
     ]
    }
   ],
   "source": [
    "def get_col_value_set(csv_filename, col_index):\n",
    "    with open(csv_filename,'r') as file:\n",
    "        reader = csv.reader(file)\n",
    "        list_file = list(reader)\n",
    "        rows = list_file[1:]\n",
    "    \n",
    "    value_set = set()\n",
    "    for row in rows:\n",
    "        value = row[col_index]\n",
    "        if value not in value_set:\n",
    "            value_set.add(value)\n",
    "        else:\n",
    "            continue\n",
    "    return value_set\n",
    "\n",
    "for i in range(len(col_headers)):\n",
    "    value_set = get_col_value_set('boston.csv', i)\n",
    "    max_length = 0\n",
    "    print(\"There are \" + str(len(value_set)) + \" values in the set of column index \" + str(i) + \".\")\n",
    "    for value in value_set:\n",
    "        if len(value) > max_length:\n",
    "            max_length = len(value)\n",
    "    print(\"The maximum character length in this column is \" + str(max_length) + \".\")\n",
    "    print(\"\")"
   ]
  },
  {
   "cell_type": "markdown",
   "metadata": {},
   "source": [
    "From the result above, we can analyze and select appropriate datatypes of each column.\n",
    "\n",
    "Column index 4 (day_of_the_week) is an ideal candidate to have enumerated datatype.\n",
    "\n",
    "Column index 2 (description) has the longest maximum length of string, so we have to keep note of that.\n",
    "\n",
    "Let's create a table for storing the Boston crime data."
   ]
  },
  {
   "cell_type": "code",
   "execution_count": 5,
   "metadata": {
    "collapsed": false
   },
   "outputs": [
    {
     "name": "stdout",
     "output_type": "stream",
     "text": [
      "['incident_number', 'offense_code', 'description', 'date', 'day_of_the_week', 'lat', 'long']\n",
      "['1', '619', 'LARCENY ALL OTHERS', '2018-09-02', 'Sunday', '42.35779134', '-71.13937053']\n"
     ]
    }
   ],
   "source": [
    "# identify suitable column names for the table, and first row to remember\n",
    "# the kind of data contained in each column\n",
    "print(col_headers)\n",
    "print(first_row)"
   ]
  },
  {
   "cell_type": "markdown",
   "metadata": {},
   "source": [
    "- For column index 0, we will name incident_id with integer datatype is enough (4 bytes).\n",
    "- For column index 1, we will name offense_id with smallint datatype (2 bytes)\n",
    "- For column index 2, we will name description with varchar(100) datatype (with 42 spare length from maximum existing length).\n",
    "- For column index 3, we will name date with date datatype (4 byte).\n",
    "- For column index 4, we will name day with enumerated datatype (7 set values).\n",
    "- For column index 5 and 6, we will name latitude and longitude with numeric(12,8) datatype."
   ]
  },
  {
   "cell_type": "code",
   "execution_count": 8,
   "metadata": {
    "collapsed": false
   },
   "outputs": [
    {
     "ename": "ProgrammingError",
     "evalue": "type \"daysweek\" already exists\n",
     "output_type": "error",
     "traceback": [
      "\u001b[1;31m\u001b[0m",
      "\u001b[1;31mProgrammingError\u001b[0mTraceback (most recent call last)",
      "\u001b[1;32m<ipython-input-8-708aa0674fec>\u001b[0m in \u001b[0;36m<module>\u001b[1;34m()\u001b[0m\n\u001b[0;32m      2\u001b[0m cur.execute(\"\"\"\n\u001b[0;32m      3\u001b[0m \u001b[0mCREATE\u001b[0m \u001b[0mTYPE\u001b[0m \u001b[0mdaysweek\u001b[0m \u001b[0mAS\u001b[0m \u001b[0mENUM\u001b[0m\u001b[1;33m(\u001b[0m\u001b[1;34m'Sunday'\u001b[0m\u001b[1;33m,\u001b[0m \u001b[1;34m'Monday'\u001b[0m\u001b[1;33m,\u001b[0m \u001b[1;34m'Tuesday'\u001b[0m\u001b[1;33m,\u001b[0m \u001b[1;34m'Wednesday'\u001b[0m\u001b[1;33m,\u001b[0m \u001b[1;34m'Thursday'\u001b[0m\u001b[1;33m,\u001b[0m \u001b[1;34m'Friday'\u001b[0m\u001b[1;33m,\u001b[0m \u001b[1;34m'Saturday'\u001b[0m\u001b[1;33m)\u001b[0m\u001b[1;33m;\u001b[0m\u001b[1;33m\u001b[0m\u001b[0m\n\u001b[1;32m----> 4\u001b[1;33m \"\"\")\n\u001b[0m\u001b[0;32m      5\u001b[0m \u001b[1;33m\u001b[0m\u001b[0m\n\u001b[0;32m      6\u001b[0m \u001b[1;31m# Then, we can create the table as designed by our datatypes specification\u001b[0m\u001b[1;33m\u001b[0m\u001b[1;33m\u001b[0m\u001b[0m\n",
      "\u001b[1;31mProgrammingError\u001b[0m: type \"daysweek\" already exists\n"
     ]
    }
   ],
   "source": [
    "# First create enumerated datatype for day column\n",
    "cur.execute(\"\"\"\n",
    "CREATE TYPE daysweek AS ENUM('Sunday', 'Monday', 'Tuesday', 'Wednesday', 'Thursday', 'Friday', 'Saturday');\n",
    "\"\"\")\n",
    "\n",
    "# Then, we can create the table as designed by our datatypes specification\n",
    "\n",
    "cur.execute(\"\"\"\n",
    "CREATE TABLE crimes.boston_crimes (\n",
    "    incident_id integer PRIMARY KEY,\n",
    "    offense_id smallint,\n",
    "    description varchar(100),\n",
    "    date date,\n",
    "    day daysweek,\n",
    "    latitude numeric(12,8),\n",
    "    longitude numeric(12,8)\n",
    ");\n",
    "\"\"\")\n",
    "conn.commit()"
   ]
  },
  {
   "cell_type": "markdown",
   "metadata": {
    "collapsed": true
   },
   "source": [
    "Now that we have created the table, we can load the data into it."
   ]
  },
  {
   "cell_type": "code",
   "execution_count": 11,
   "metadata": {
    "collapsed": false
   },
   "outputs": [
    {
     "ename": "IntegrityError",
     "evalue": "duplicate key value violates unique constraint \"boston_crimes_pkey\"\nDETAIL:  Key (incident_id)=(1) already exists.\nCONTEXT:  COPY boston_crimes, line 2\n",
     "output_type": "error",
     "traceback": [
      "\u001b[1;31m\u001b[0m",
      "\u001b[1;31mIntegrityError\u001b[0mTraceback (most recent call last)",
      "\u001b[1;32m<ipython-input-11-dc93d9c4ad2d>\u001b[0m in \u001b[0;36m<module>\u001b[1;34m()\u001b[0m\n\u001b[0;32m      1\u001b[0m \u001b[1;31m# Load the data from the boston.csv file into the crimes.boston_crimes table.\u001b[0m\u001b[1;33m\u001b[0m\u001b[1;33m\u001b[0m\u001b[0m\n\u001b[0;32m      2\u001b[0m \u001b[1;32mwith\u001b[0m \u001b[0mopen\u001b[0m\u001b[1;33m(\u001b[0m\u001b[1;34m'boston.csv'\u001b[0m\u001b[1;33m)\u001b[0m \u001b[1;32mas\u001b[0m \u001b[0mfile\u001b[0m\u001b[1;33m:\u001b[0m\u001b[1;33m\u001b[0m\u001b[0m\n\u001b[1;32m----> 3\u001b[1;33m     \u001b[0mcur\u001b[0m\u001b[1;33m.\u001b[0m\u001b[0mcopy_expert\u001b[0m\u001b[1;33m(\u001b[0m\u001b[1;34m\"COPY crimes.boston_crimes FROM STDIN WITH CSV HEADER;\"\u001b[0m\u001b[1;33m,\u001b[0m \u001b[0mfile\u001b[0m\u001b[1;33m)\u001b[0m\u001b[1;33m\u001b[0m\u001b[0m\n\u001b[0m",
      "\u001b[1;31mIntegrityError\u001b[0m: duplicate key value violates unique constraint \"boston_crimes_pkey\"\nDETAIL:  Key (incident_id)=(1) already exists.\nCONTEXT:  COPY boston_crimes, line 2\n"
     ]
    }
   ],
   "source": [
    "# Load the data from the boston.csv file into the crimes.boston_crimes table.\n",
    "with open('boston.csv') as file:\n",
    "    cur.copy_expert(\"COPY crimes.boston_crimes FROM STDIN WITH CSV HEADER;\", file)"
   ]
  },
  {
   "cell_type": "markdown",
   "metadata": {},
   "source": [
    "Now it is time to handle users. Our goal is to create the two user groups: readonly and readwrite. By following the least privilege principle, the first step in doing so is to make sure that there are no privileges inherited from the public group and on the public schema."
   ]
  },
  {
   "cell_type": "code",
   "execution_count": 14,
   "metadata": {
    "collapsed": false
   },
   "outputs": [],
   "source": [
    "# Revoke all the privileges of the public group on the public schema.\n",
    "cur.execute(\"REVOKE ALL ON SCHEMA public FROM public;\")\n",
    "\n",
    "# Revoke all privileges of public on the crime_db database.\n",
    "cur.execute(\"REVOKE ALL ON DATABASE crime_db FROM public;\")\n",
    "\n",
    "conn.commit()"
   ]
  },
  {
   "cell_type": "markdown",
   "metadata": {},
   "source": [
    "We have made sure that we are not going to inadvertently inherit privileges from the public group. The next step is to create our two users groups.\n",
    "\n",
    "That the readonly group is supposed to only privileges to perform SELECT queries. In contrast, we want the readwrite group to be able to perform SELECT, INSERT, DELETE and UPDATE queries.\n",
    "\n",
    "We also need:\n",
    "- Connection privileges on the crime_db — otherwise, they won't be able to do anything.\n",
    "- Usage of the crimes schema — this is where all data will be stored."
   ]
  },
  {
   "cell_type": "code",
   "execution_count": 15,
   "metadata": {
    "collapsed": false
   },
   "outputs": [],
   "source": [
    "# Create two groups named readonly and readwrite with the no NOLOGIN option.\n",
    "cur.execute(\"CREATE GROUP readonly;\")\n",
    "cur.execute(\"CREATE GROUP readwrite;\")\n",
    "\n",
    "# Grant CONNECT to the crime_db to both groups.\n",
    "cur.execute(\"GRANT CONNECT ON DATABASE crime_db TO readonly;\")\n",
    "cur.execute(\"GRANT CONNECT ON DATABASE crime_db TO readwrite;\")\n",
    "\n",
    "# Grant USAGE to the crimes schema to both groups.\n",
    "cur.execute(\"GRANT USAGE ON SCHEMA crimes TO readonly;\")\n",
    "cur.execute(\"GRANT USAGE ON SCHEMA crimes TO readwrite;\")\n",
    "\n",
    "# Grant group specific privileges to each group on all tables in the crimes schema.\n",
    "cur.execute(\"GRANT SELECT ON ALL TABLES IN SCHEMA crimes TO readonly;\")\n",
    "cur.execute(\"GRANT SELECT, INSERT, DELETE, UPDATE ON ALL TABLES IN SCHEMA crimes TO readwrite;\")\n",
    "\n",
    "conn.commit()"
   ]
  },
  {
   "cell_type": "markdown",
   "metadata": {},
   "source": [
    "We are nearly done with setting up our crime database. The only thing that we need to do is create users.\n",
    "\n",
    "Let's wrap up the project by creating one user in each group. We will need to create each user and then assign them to each group."
   ]
  },
  {
   "cell_type": "code",
   "execution_count": 16,
   "metadata": {
    "collapsed": false
   },
   "outputs": [],
   "source": [
    "# Create a user named data_analyst with password secret1.\n",
    "cur.execute(\"CREATE USER data_analyst WITH PASSWORD 'secret1';\")\n",
    "\n",
    "# Assign this user to the readonly group using the GRANT command.\n",
    "cur.execute(\"GRANT readonly TO data_analyst;\")\n",
    "\n",
    "# Create a user named data_scientist with password secret2.\n",
    "cur.execute(\"CREATE USER data_scientist WITH PASSWORD 'secret2';\")\n",
    "\n",
    "# Assign this user to the readwrite group using the GRANT command.\n",
    "cur.execute(\"GRANT readwrite TO data_scientist;\")\n",
    "\n",
    "conn.commit()"
   ]
  },
  {
   "cell_type": "markdown",
   "metadata": {
    "collapsed": true
   },
   "source": [
    "Postgres database has been set up.\n",
    "It is a good practice to test that everything is configured as expected when we finish setting up the database."
   ]
  },
  {
   "cell_type": "code",
   "execution_count": 19,
   "metadata": {
    "collapsed": false
   },
   "outputs": [
    {
     "name": "stdout",
     "output_type": "stream",
     "text": [
      "[('dq', True, True, True, True, True, True, True, -1, '********', None, None, 10), ('readonly', False, True, False, False, False, False, False, -1, '********', None, None, 16412), ('readwrite', False, True, False, False, False, False, False, -1, '********', None, None, 16413), ('data_analyst', False, True, False, False, False, True, False, -1, '********', None, None, 16414), ('data_scientist', False, True, False, False, False, True, False, -1, '********', None, None, 16415)]\n"
     ]
    }
   ],
   "source": [
    "# tests cell\n",
    "\n",
    "cur.execute(\"SELECT * FROM pg_roles;\")\n",
    "result = cur.fetchall()\n",
    "print(result)\n",
    "\n",
    "cur.execute(\"\"\"\n",
    "SELECT grantee, privilege_type\n",
    "FROM information_schema.table_privileges\n",
    "WHERE grantee = 'readwrite';\")"
   ]
  }
 ],
 "metadata": {
  "kernelspec": {
   "display_name": "Python 3",
   "language": "python",
   "name": "python3"
  },
  "language_info": {
   "codemirror_mode": {
    "name": "ipython",
    "version": 3
   },
   "file_extension": ".py",
   "mimetype": "text/x-python",
   "name": "python",
   "nbconvert_exporter": "python",
   "pygments_lexer": "ipython3",
   "version": "3.4.3"
  }
 },
 "nbformat": 4,
 "nbformat_minor": 2
}
