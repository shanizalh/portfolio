{
 "cells": [
  {
   "cell_type": "markdown",
   "metadata": {},
   "source": [
    "# Profitable App Profiles for the App Store and Google Play Markets\n",
    "\n",
    "The goal of this project is to analyze data to help developers understand what type of apps are likely to attract more users."
   ]
  },
  {
   "cell_type": "code",
   "execution_count": 1,
   "metadata": {},
   "outputs": [],
   "source": [
    "# Opening the file\n",
    "\n",
    "opened_file1 = open('AppleStore.csv', encoding='utf-8')\n",
    "opened_file2 = open('googleplaystore.csv', encoding='utf-8')\n",
    "from csv import reader\n",
    "read_file1 = reader(opened_file1)\n",
    "read_file2 = reader(opened_file2)\n",
    "apple_data = list(read_file1)\n",
    "google_data = list(read_file2)\n",
    "\n",
    "apple_header = apple_data[0]\n",
    "apple = apple_data[1:]\n",
    "google_header = google_data[0]\n",
    "google = google_data[1:]"
   ]
  },
  {
   "cell_type": "code",
   "execution_count": 2,
   "metadata": {},
   "outputs": [
    {
     "name": "stdout",
     "output_type": "stream",
     "text": [
      "['284882215', 'Facebook', '389879808', 'USD', '0.0', '2974676', '212', '3.5', '3.5', '95.0', '4+', 'Social Networking', '37', '1', '29', '1']\n",
      "\n",
      "\n",
      "['389801252', 'Instagram', '113954816', 'USD', '0.0', '2161558', '1289', '4.5', '4.0', '10.23', '12+', 'Photo & Video', '37', '0', '29', '1']\n",
      "\n",
      "\n",
      "['529479190', 'Clash of Clans', '116476928', 'USD', '0.0', '2130805', '579', '4.5', '4.5', '9.24.12', '9+', 'Games', '38', '5', '18', '1']\n",
      "\n",
      "\n",
      "Number of rows: 7197\n",
      "Number of columns: 16\n",
      "['Photo Editor & Candy Camera & Grid & ScrapBook', 'ART_AND_DESIGN', '4.1', '159', '19M', '10,000+', 'Free', '0', 'Everyone', 'Art & Design', 'January 7, 2018', '1.0.0', '4.0.3 and up']\n",
      "\n",
      "\n",
      "['Coloring book moana', 'ART_AND_DESIGN', '3.9', '967', '14M', '500,000+', 'Free', '0', 'Everyone', 'Art & Design;Pretend Play', 'January 15, 2018', '2.0.0', '4.0.3 and up']\n",
      "\n",
      "\n",
      "['U Launcher Lite – FREE Live Cool Themes, Hide Apps', 'ART_AND_DESIGN', '4.7', '87510', '8.7M', '5,000,000+', 'Free', '0', 'Everyone', 'Art & Design', 'August 1, 2018', '1.2.4', '4.0.3 and up']\n",
      "\n",
      "\n",
      "Number of rows: 10841\n",
      "Number of columns: 13\n"
     ]
    }
   ],
   "source": [
    "# Function to explore data\n",
    "\n",
    "def explore_data(dataset, start, end, rows_and_columns=False):\n",
    "    dataset_slice = dataset[start:end]    \n",
    "    for row in dataset_slice:\n",
    "        print(row)\n",
    "        print('\\n') # adds a new (empty) line after each row\n",
    "\n",
    "    if rows_and_columns:\n",
    "        print('Number of rows:', len(dataset))\n",
    "        print('Number of columns:', len(dataset[0]))\n",
    "\n",
    "explore_data(apple,0,3,True)\n",
    "explore_data(google,0,3,True)"
   ]
  },
  {
   "cell_type": "code",
   "execution_count": 3,
   "metadata": {},
   "outputs": [
    {
     "name": "stdout",
     "output_type": "stream",
     "text": [
      "['id', 'track_name', 'size_bytes', 'currency', 'price', 'rating_count_tot', 'rating_count_ver', 'user_rating', 'user_rating_ver', 'ver', 'cont_rating', 'prime_genre', 'sup_devices.num', 'ipadSc_urls.num', 'lang.num', 'vpp_lic']\n",
      "['App', 'Category', 'Rating', 'Reviews', 'Size', 'Installs', 'Type', 'Price', 'Content Rating', 'Genres', 'Last Updated', 'Current Ver', 'Android Ver']\n"
     ]
    }
   ],
   "source": [
    "# Print the header\n",
    "print(apple_header)\n",
    "print(google_header)"
   ]
  },
  {
   "cell_type": "markdown",
   "metadata": {},
   "source": [
    "Click [here](https://www.kaggle.com/ramamet4/app-store-apple-data-set-10k-apps)\there for the documentation of Apple App Store's data\n",
    "Click [here](https://www.kaggle.com/lava18/google-play-store-apps) for the documentation of Google Play Store's data"
   ]
  },
  {
   "cell_type": "code",
   "execution_count": 4,
   "metadata": {},
   "outputs": [
    {
     "name": "stdout",
     "output_type": "stream",
     "text": [
      "['Life Made WI-Fi Touchscreen Photo Frame', '1.9', '19', '3.0M', '1,000+', 'Free', '0', 'Everyone', '', 'February 11, 2018', '1.0.19', '4.0 and up']\n"
     ]
    }
   ],
   "source": [
    "# Sampling one row\n",
    "print(google[10472])"
   ]
  },
  {
   "cell_type": "code",
   "execution_count": 5,
   "metadata": {},
   "outputs": [],
   "source": [
    "# Deleting row\n",
    "del google[10472]"
   ]
  },
  {
   "cell_type": "markdown",
   "metadata": {},
   "source": [
    "Google Play data set has duplicate entries:"
   ]
  },
  {
   "cell_type": "code",
   "execution_count": 6,
   "metadata": {},
   "outputs": [
    {
     "name": "stdout",
     "output_type": "stream",
     "text": [
      "The number of duplicate apps:  1181 \n",
      "\n",
      "The number of unique apps:  9659\n"
     ]
    }
   ],
   "source": [
    "# Code to check duplicate entries\n",
    "google_duplicate = []\n",
    "google_unique = []\n",
    "\n",
    "for row in google:\n",
    "    if row[0] in google_unique:\n",
    "        google_duplicate.append(row[0])\n",
    "    else:\n",
    "        google_unique.append(row[0])\n",
    "        \n",
    "print('The number of duplicate apps: ',len(google_duplicate),'\\n')\n",
    "print('The number of unique apps: ', len(google_unique))"
   ]
  },
  {
   "cell_type": "markdown",
   "metadata": {},
   "source": [
    "I won't remove the duplicates randomly. The criterion I'm going to use to remove the duplicates is by reading the number of review in 'Reviews' column (column index 3), and keep the highest number of review, because it will be most likely most recent entry of those apps."
   ]
  },
  {
   "cell_type": "code",
   "execution_count": 7,
   "metadata": {},
   "outputs": [
    {
     "name": "stdout",
     "output_type": "stream",
     "text": [
      "9659\n"
     ]
    }
   ],
   "source": [
    "# Find highest number of review\n",
    "reviews_max = {}\n",
    "\n",
    "for row in google:\n",
    "    name = row[0]\n",
    "    n_reviews = float(row[3])\n",
    "    if name in reviews_max and reviews_max[name] < n_reviews:\n",
    "        reviews_max[name] = n_reviews\n",
    "    elif name not in reviews_max:\n",
    "        reviews_max[name] = n_reviews\n",
    "\n",
    "print(len(reviews_max))"
   ]
  },
  {
   "cell_type": "code",
   "execution_count": 8,
   "metadata": {},
   "outputs": [],
   "source": [
    "# Cleaning dataset\n",
    "google_clean = []\n",
    "already_added = []\n",
    "\n",
    "for row in google:\n",
    "    name = row[0]\n",
    "    n_reviews = float(row[3])\n",
    "    if n_reviews == reviews_max[name] and name not in already_added:\n",
    "        google_clean.append(row)\n",
    "        already_added.append(name)"
   ]
  },
  {
   "cell_type": "code",
   "execution_count": 9,
   "metadata": {},
   "outputs": [
    {
     "name": "stdout",
     "output_type": "stream",
     "text": [
      "[['Photo Editor & Candy Camera & Grid & ScrapBook', 'ART_AND_DESIGN', '4.1', '159', '19M', '10,000+', 'Free', '0', 'Everyone', 'Art & Design', 'January 7, 2018', '1.0.0', '4.0.3 and up'], ['U Launcher Lite – FREE Live Cool Themes, Hide Apps', 'ART_AND_DESIGN', '4.7', '87510', '8.7M', '5,000,000+', 'Free', '0', 'Everyone', 'Art & Design', 'August 1, 2018', '1.2.4', '4.0.3 and up'], ['Sketch - Draw & Paint', 'ART_AND_DESIGN', '4.5', '215644', '25M', '50,000,000+', 'Free', '0', 'Teen', 'Art & Design', 'June 8, 2018', 'Varies with device', '4.2 and up']]\n",
      "9659\n"
     ]
    }
   ],
   "source": [
    "# See the result\n",
    "print(google_clean[:3])\n",
    "print(len(google_clean))"
   ]
  },
  {
   "cell_type": "code",
   "execution_count": 10,
   "metadata": {},
   "outputs": [
    {
     "name": "stdout",
     "output_type": "stream",
     "text": [
      "True\n",
      "False\n",
      "True\n",
      "True\n"
     ]
    }
   ],
   "source": [
    "# Function to read string whether it is readable english character\n",
    "def englishlang(string):\n",
    "    non_engchar = []\n",
    "    for character in string:\n",
    "        if ord(character) > 127:\n",
    "            non_engchar.append(character)  \n",
    "        if len(non_engchar) > 3:\n",
    "            return False\n",
    "    \n",
    "    return True\n",
    "\n",
    "print(englishlang('Instagram'))\n",
    "print(englishlang('爱奇艺PPS -《欢乐颂2》电视剧热播'))\n",
    "print(englishlang('Docs To Go™ Free Office Suite'))\n",
    "print(englishlang('Instachat 😜'))"
   ]
  },
  {
   "cell_type": "code",
   "execution_count": 11,
   "metadata": {},
   "outputs": [],
   "source": [
    "# Cleaning dataset from non-english application\n",
    "gclean_english = []\n",
    "aclean_english = []\n",
    "for row in google_clean:\n",
    "    appname = row[0]\n",
    "    if englishlang(appname) == True:\n",
    "        gclean_english.append(row)\n",
    "\n",
    "\n",
    "for row in apple:\n",
    "    appname = row[1]\n",
    "    if englishlang(appname) == True:\n",
    "        aclean_english.append(row)"
   ]
  },
  {
   "cell_type": "code",
   "execution_count": 12,
   "metadata": {},
   "outputs": [
    {
     "name": "stdout",
     "output_type": "stream",
     "text": [
      "['Photo Editor & Candy Camera & Grid & ScrapBook', 'ART_AND_DESIGN', '4.1', '159', '19M', '10,000+', 'Free', '0', 'Everyone', 'Art & Design', 'January 7, 2018', '1.0.0', '4.0.3 and up']\n",
      "\n",
      "\n",
      "['U Launcher Lite – FREE Live Cool Themes, Hide Apps', 'ART_AND_DESIGN', '4.7', '87510', '8.7M', '5,000,000+', 'Free', '0', 'Everyone', 'Art & Design', 'August 1, 2018', '1.2.4', '4.0.3 and up']\n",
      "\n",
      "\n",
      "['Sketch - Draw & Paint', 'ART_AND_DESIGN', '4.5', '215644', '25M', '50,000,000+', 'Free', '0', 'Teen', 'Art & Design', 'June 8, 2018', 'Varies with device', '4.2 and up']\n",
      "\n",
      "\n",
      "Number of rows: 9614\n",
      "Number of columns: 13\n",
      "['284882215', 'Facebook', '389879808', 'USD', '0.0', '2974676', '212', '3.5', '3.5', '95.0', '4+', 'Social Networking', '37', '1', '29', '1']\n",
      "\n",
      "\n",
      "['389801252', 'Instagram', '113954816', 'USD', '0.0', '2161558', '1289', '4.5', '4.0', '10.23', '12+', 'Photo & Video', '37', '0', '29', '1']\n",
      "\n",
      "\n",
      "['529479190', 'Clash of Clans', '116476928', 'USD', '0.0', '2130805', '579', '4.5', '4.5', '9.24.12', '9+', 'Games', '38', '5', '18', '1']\n",
      "\n",
      "\n",
      "Number of rows: 6183\n",
      "Number of columns: 16\n"
     ]
    }
   ],
   "source": [
    "# Explore cleaned data\n",
    "explore_data(gclean_english,0,3,True)\n",
    "explore_data(aclean_english,0,3,True)"
   ]
  },
  {
   "cell_type": "code",
   "execution_count": 13,
   "metadata": {},
   "outputs": [],
   "source": [
    "# Filter to only show free apps\n",
    "g_cleanfreeng = []\n",
    "a_cleanfreeng = []\n",
    "\n",
    "for row in gclean_english:\n",
    "    price = row[6]\n",
    "    if price == 'Free':\n",
    "        g_cleanfreeng.append(row)\n",
    "        \n",
    "for row in aclean_english:\n",
    "    price = float(row[4])\n",
    "    if price == 0:\n",
    "        a_cleanfreeng.append(row)"
   ]
  },
  {
   "cell_type": "code",
   "execution_count": 14,
   "metadata": {},
   "outputs": [
    {
     "name": "stdout",
     "output_type": "stream",
     "text": [
      "['Photo Editor & Candy Camera & Grid & ScrapBook', 'ART_AND_DESIGN', '4.1', '159', '19M', '10,000+', 'Free', '0', 'Everyone', 'Art & Design', 'January 7, 2018', '1.0.0', '4.0.3 and up']\n",
      "\n",
      "\n",
      "['U Launcher Lite – FREE Live Cool Themes, Hide Apps', 'ART_AND_DESIGN', '4.7', '87510', '8.7M', '5,000,000+', 'Free', '0', 'Everyone', 'Art & Design', 'August 1, 2018', '1.2.4', '4.0.3 and up']\n",
      "\n",
      "\n",
      "['Sketch - Draw & Paint', 'ART_AND_DESIGN', '4.5', '215644', '25M', '50,000,000+', 'Free', '0', 'Teen', 'Art & Design', 'June 8, 2018', 'Varies with device', '4.2 and up']\n",
      "\n",
      "\n",
      "Number of rows: 8863\n",
      "Number of columns: 13\n",
      "['284882215', 'Facebook', '389879808', 'USD', '0.0', '2974676', '212', '3.5', '3.5', '95.0', '4+', 'Social Networking', '37', '1', '29', '1']\n",
      "\n",
      "\n",
      "['389801252', 'Instagram', '113954816', 'USD', '0.0', '2161558', '1289', '4.5', '4.0', '10.23', '12+', 'Photo & Video', '37', '0', '29', '1']\n",
      "\n",
      "\n",
      "['529479190', 'Clash of Clans', '116476928', 'USD', '0.0', '2130805', '579', '4.5', '4.5', '9.24.12', '9+', 'Games', '38', '5', '18', '1']\n",
      "\n",
      "\n",
      "Number of rows: 3222\n",
      "Number of columns: 16\n"
     ]
    }
   ],
   "source": [
    "# Explore filtered data\n",
    "explore_data(g_cleanfreeng,0,3,True)\n",
    "explore_data(a_cleanfreeng,0,3,True)"
   ]
  },
  {
   "cell_type": "markdown",
   "metadata": {},
   "source": [
    "The aim of this project is to determine which apps that are attract more users, because the revenue generated by free apps is highly influenced by the number of people using the apps.\n",
    "\n",
    "The validation strategy is as follows:\n",
    "1. Build a minimal Android version of the app, and add it to Google Play.\n",
    "2. If the app has a good response from users, we develop it further.\n",
    "3. If the app is profitable after six months, we build an iOS version of the app and add it to the App Store.\n",
    "\n",
    "So, we need to know what is the most common genres for each market."
   ]
  },
  {
   "cell_type": "code",
   "execution_count": 15,
   "metadata": {},
   "outputs": [
    {
     "name": "stdout",
     "output_type": "stream",
     "text": [
      "['App', 'Category', 'Rating', 'Reviews', 'Size', 'Installs', 'Type', 'Price', 'Content Rating', 'Genres', 'Last Updated', 'Current Ver', 'Android Ver']\n",
      "['id', 'track_name', 'size_bytes', 'currency', 'price', 'rating_count_tot', 'rating_count_ver', 'user_rating', 'user_rating_ver', 'ver', 'cont_rating', 'prime_genre', 'sup_devices.num', 'ipadSc_urls.num', 'lang.num', 'vpp_lic']\n"
     ]
    }
   ],
   "source": [
    "# Print header as reminder\n",
    "print(google_header)\n",
    "print(apple_header)"
   ]
  },
  {
   "cell_type": "code",
   "execution_count": 16,
   "metadata": {},
   "outputs": [],
   "source": [
    "# Build function to make freq table dictionary and to display table\n",
    "\n",
    "def freq_table(dataset,index):\n",
    "    freq_dict = {}\n",
    "    total = 0\n",
    "    \n",
    "    for row in dataset:\n",
    "        total += 1\n",
    "        value = row[index]\n",
    "        if value in freq_dict:\n",
    "            freq_dict[value] += 1\n",
    "        else:\n",
    "            freq_dict[value] = 1 \n",
    "            \n",
    "    freq_dict_percentage = {}\n",
    "    \n",
    "    for iteration_variable in freq_dict:\n",
    "        percentage = (freq_dict[iteration_variable] / total) * 100\n",
    "        freq_dict_percentage[iteration_variable] = percentage\n",
    "    \n",
    "    return freq_dict_percentage\n",
    "\n",
    "def display_table(dataset, index):\n",
    "    table = freq_table(dataset, index)\n",
    "    table_display = []\n",
    "    for key in table:\n",
    "        key_val_as_tuple = (table[key], key)\n",
    "        table_display.append(key_val_as_tuple)\n",
    "\n",
    "    table_sorted = sorted(table_display, reverse = True)\n",
    "    for entry in table_sorted:\n",
    "        print(entry[1], ':', entry[0])"
   ]
  },
  {
   "cell_type": "code",
   "execution_count": 17,
   "metadata": {},
   "outputs": [
    {
     "name": "stdout",
     "output_type": "stream",
     "text": [
      "Games : 58.16263190564867\n",
      "Entertainment : 7.883302296710118\n",
      "Photo & Video : 4.9658597144630665\n",
      "Education : 3.662321539416512\n",
      "Social Networking : 3.2898820608317814\n",
      "Shopping : 2.60707635009311\n",
      "Utilities : 2.5139664804469275\n",
      "Sports : 2.1415270018621975\n",
      "Music : 2.0484171322160147\n",
      "Health & Fitness : 2.0173805090006205\n",
      "Productivity : 1.7380509000620732\n",
      "Lifestyle : 1.5828677839851024\n",
      "News : 1.3345747982619491\n",
      "Travel : 1.2414649286157666\n",
      "Finance : 1.1173184357541899\n",
      "Weather : 0.8690254500310366\n",
      "Food & Drink : 0.8069522036002483\n",
      "Reference : 0.5586592178770949\n",
      "Business : 0.5276225946617008\n",
      "Book : 0.4345127250155183\n",
      "Navigation : 0.186219739292365\n",
      "Medical : 0.186219739292365\n",
      "Catalogs : 0.12414649286157665\n"
     ]
    }
   ],
   "source": [
    "# Display table appstore category\n",
    "display_table(a_cleanfreeng,11)"
   ]
  },
  {
   "cell_type": "code",
   "execution_count": 18,
   "metadata": {},
   "outputs": [
    {
     "name": "stdout",
     "output_type": "stream",
     "text": [
      "FAMILY : 18.898792733837304\n",
      "GAME : 9.725826469592688\n",
      "TOOLS : 8.462146000225657\n",
      "BUSINESS : 4.592124562789123\n",
      "LIFESTYLE : 3.9038700214374367\n",
      "PRODUCTIVITY : 3.8925871601038025\n",
      "FINANCE : 3.7007785174320205\n",
      "MEDICAL : 3.5315355974275078\n",
      "SPORTS : 3.396141261423897\n",
      "PERSONALIZATION : 3.317161232088458\n",
      "COMMUNICATION : 3.2381812027530184\n",
      "HEALTH_AND_FITNESS : 3.0802211440821394\n",
      "PHOTOGRAPHY : 2.944826808078529\n",
      "NEWS_AND_MAGAZINES : 2.798149610741284\n",
      "SOCIAL : 2.6627552747376737\n",
      "TRAVEL_AND_LOCAL : 2.335552296062281\n",
      "SHOPPING : 2.245289405393208\n",
      "BOOKS_AND_REFERENCE : 2.1437436533904997\n",
      "DATING : 1.8616721200496444\n",
      "VIDEO_PLAYERS : 1.7939749520478394\n",
      "MAPS_AND_NAVIGATION : 1.399074805370642\n",
      "FOOD_AND_DRINK : 1.241114746699763\n",
      "EDUCATION : 1.1621347173643235\n",
      "ENTERTAINMENT : 0.9590432133589079\n",
      "LIBRARIES_AND_DEMO : 0.9364774906916393\n",
      "AUTO_AND_VEHICLES : 0.9251946293580051\n",
      "HOUSE_AND_HOME : 0.8236488773552973\n",
      "WEATHER : 0.8010831546880289\n",
      "EVENTS : 0.7108202640189552\n",
      "PARENTING : 0.6544059573507841\n",
      "ART_AND_DESIGN : 0.6431230960171499\n",
      "COMICS : 0.6205573733498815\n",
      "BEAUTY : 0.5979916506826132\n"
     ]
    }
   ],
   "source": [
    "# Display table google play store category\n",
    "display_table(g_cleanfreeng,1)"
   ]
  },
  {
   "cell_type": "code",
   "execution_count": 19,
   "metadata": {},
   "outputs": [
    {
     "name": "stdout",
     "output_type": "stream",
     "text": [
      "Tools : 8.450863138892023\n",
      "Entertainment : 6.070179397495204\n",
      "Education : 5.348076272142616\n",
      "Business : 4.592124562789123\n",
      "Productivity : 3.8925871601038025\n",
      "Lifestyle : 3.8925871601038025\n",
      "Finance : 3.7007785174320205\n",
      "Medical : 3.5315355974275078\n",
      "Sports : 3.463838429425702\n",
      "Personalization : 3.317161232088458\n",
      "Communication : 3.2381812027530184\n",
      "Action : 3.102786866749408\n",
      "Health & Fitness : 3.0802211440821394\n",
      "Photography : 2.944826808078529\n",
      "News & Magazines : 2.798149610741284\n",
      "Social : 2.6627552747376737\n",
      "Travel & Local : 2.324269434728647\n",
      "Shopping : 2.245289405393208\n",
      "Books & Reference : 2.1437436533904997\n",
      "Simulation : 2.042197901387792\n",
      "Dating : 1.8616721200496444\n",
      "Arcade : 1.8503892587160102\n",
      "Video Players & Editors : 1.771409229380571\n",
      "Casual : 1.7601263680469368\n",
      "Maps & Navigation : 1.399074805370642\n",
      "Food & Drink : 1.241114746699763\n",
      "Puzzle : 1.128286133363421\n",
      "Racing : 0.9928917973598104\n",
      "Role Playing : 0.9364774906916393\n",
      "Libraries & Demo : 0.9364774906916393\n",
      "Auto & Vehicles : 0.9251946293580051\n",
      "Strategy : 0.9026289066907368\n",
      "House & Home : 0.8236488773552973\n",
      "Weather : 0.8010831546880289\n",
      "Events : 0.7108202640189552\n",
      "Adventure : 0.6769716800180525\n",
      "Comics : 0.6092745120162473\n",
      "Beauty : 0.5979916506826132\n",
      "Art & Design : 0.5979916506826132\n",
      "Parenting : 0.4964458986799052\n",
      "Card : 0.4513144533453684\n",
      "Casino : 0.42874873067809993\n",
      "Trivia : 0.4174658693444658\n",
      "Educational;Education : 0.3949001466771973\n",
      "Board : 0.38361728534356315\n",
      "Educational : 0.37233442400992894\n",
      "Education;Education : 0.33848584000902626\n",
      "Word : 0.25950581067358686\n",
      "Casual;Pretend Play : 0.2369400880063184\n",
      "Music : 0.20309150400541578\n",
      "Racing;Action & Adventure : 0.16924292000451313\n",
      "Puzzle;Brain Games : 0.16924292000451313\n",
      "Entertainment;Music & Video : 0.16924292000451313\n",
      "Casual;Brain Games : 0.1353943360036105\n",
      "Casual;Action & Adventure : 0.1353943360036105\n",
      "Arcade;Action & Adventure : 0.1241114746699763\n",
      "Action;Action & Adventure : 0.10154575200270789\n",
      "Educational;Pretend Play : 0.09026289066907367\n",
      "Simulation;Action & Adventure : 0.07898002933543948\n",
      "Parenting;Education : 0.07898002933543948\n",
      "Entertainment;Brain Games : 0.07898002933543948\n",
      "Board;Brain Games : 0.07898002933543948\n",
      "Parenting;Music & Video : 0.06769716800180525\n",
      "Educational;Brain Games : 0.06769716800180525\n",
      "Casual;Creativity : 0.06769716800180525\n",
      "Art & Design;Creativity : 0.06769716800180525\n",
      "Education;Pretend Play : 0.05641430666817105\n",
      "Role Playing;Pretend Play : 0.045131445334536835\n",
      "Education;Creativity : 0.045131445334536835\n",
      "Role Playing;Action & Adventure : 0.033848584000902626\n",
      "Puzzle;Action & Adventure : 0.033848584000902626\n",
      "Entertainment;Creativity : 0.033848584000902626\n",
      "Entertainment;Action & Adventure : 0.033848584000902626\n",
      "Educational;Creativity : 0.033848584000902626\n",
      "Educational;Action & Adventure : 0.033848584000902626\n",
      "Education;Music & Video : 0.033848584000902626\n",
      "Education;Brain Games : 0.033848584000902626\n",
      "Education;Action & Adventure : 0.033848584000902626\n",
      "Adventure;Action & Adventure : 0.033848584000902626\n",
      "Video Players & Editors;Music & Video : 0.022565722667268417\n",
      "Sports;Action & Adventure : 0.022565722667268417\n",
      "Simulation;Pretend Play : 0.022565722667268417\n",
      "Puzzle;Creativity : 0.022565722667268417\n",
      "Music;Music & Video : 0.022565722667268417\n",
      "Entertainment;Pretend Play : 0.022565722667268417\n",
      "Casual;Education : 0.022565722667268417\n",
      "Board;Action & Adventure : 0.022565722667268417\n",
      "Video Players & Editors;Creativity : 0.011282861333634209\n",
      "Trivia;Education : 0.011282861333634209\n",
      "Travel & Local;Action & Adventure : 0.011282861333634209\n",
      "Tools;Education : 0.011282861333634209\n",
      "Strategy;Education : 0.011282861333634209\n",
      "Strategy;Creativity : 0.011282861333634209\n",
      "Strategy;Action & Adventure : 0.011282861333634209\n",
      "Simulation;Education : 0.011282861333634209\n",
      "Role Playing;Brain Games : 0.011282861333634209\n",
      "Racing;Pretend Play : 0.011282861333634209\n",
      "Puzzle;Education : 0.011282861333634209\n",
      "Parenting;Brain Games : 0.011282861333634209\n",
      "Music & Audio;Music & Video : 0.011282861333634209\n",
      "Lifestyle;Pretend Play : 0.011282861333634209\n",
      "Lifestyle;Education : 0.011282861333634209\n",
      "Health & Fitness;Education : 0.011282861333634209\n",
      "Health & Fitness;Action & Adventure : 0.011282861333634209\n",
      "Entertainment;Education : 0.011282861333634209\n",
      "Communication;Creativity : 0.011282861333634209\n",
      "Comics;Creativity : 0.011282861333634209\n",
      "Casual;Music & Video : 0.011282861333634209\n",
      "Card;Action & Adventure : 0.011282861333634209\n",
      "Books & Reference;Education : 0.011282861333634209\n",
      "Art & Design;Pretend Play : 0.011282861333634209\n",
      "Art & Design;Action & Adventure : 0.011282861333634209\n",
      "Arcade;Pretend Play : 0.011282861333634209\n",
      "Adventure;Education : 0.011282861333634209\n"
     ]
    }
   ],
   "source": [
    "# Display table google play store alternative category\n",
    "display_table(g_cleanfreeng,9)"
   ]
  },
  {
   "cell_type": "code",
   "execution_count": 20,
   "metadata": {},
   "outputs": [
    {
     "name": "stdout",
     "output_type": "stream",
     "text": [
      "Social Networking   71548.34905660378\n",
      "Photo & Video   28441.54375\n",
      "Games   22788.6696905016\n",
      "Music   57326.530303030304\n",
      "Reference   74942.11111111111\n",
      "Health & Fitness   23298.015384615384\n",
      "Weather   52279.892857142855\n",
      "Utilities   18684.456790123455\n",
      "Travel   28243.8\n",
      "Shopping   26919.690476190477\n",
      "News   21248.023255813954\n",
      "Navigation   86090.33333333333\n",
      "Lifestyle   16485.764705882353\n",
      "Entertainment   14029.830708661417\n",
      "Food & Drink   33333.92307692308\n",
      "Sports   23008.898550724636\n",
      "Book   39758.5\n",
      "Finance   31467.944444444445\n",
      "Education   7003.983050847458\n",
      "Productivity   21028.410714285714\n",
      "Business   7491.117647058823\n",
      "Catalogs   4004.0\n",
      "Medical   612.0\n"
     ]
    }
   ],
   "source": [
    "# Display average number of ratings for each category for Google\n",
    "a_uniqgen = freq_table(a_cleanfreeng,11)\n",
    "for genre in a_uniqgen:\n",
    "    total = 0\n",
    "    len_genre = 0\n",
    "    for row in a_cleanfreeng:\n",
    "        genre_app = row[11]\n",
    "        if genre_app == genre:\n",
    "            rating_count = float(row[5])\n",
    "            total += rating_count\n",
    "            len_genre += 1\n",
    "    \n",
    "    avg_num_ratings = total / len_genre\n",
    "    print(genre,\" \",avg_num_ratings)"
   ]
  },
  {
   "cell_type": "code",
   "execution_count": 21,
   "metadata": {},
   "outputs": [
    {
     "name": "stdout",
     "output_type": "stream",
     "text": [
      "ART_AND_DESIGN   1986335.0877192982\n",
      "AUTO_AND_VEHICLES   647317.8170731707\n",
      "BEAUTY   513151.88679245283\n",
      "BOOKS_AND_REFERENCE   8767811.894736841\n",
      "BUSINESS   1712290.1474201474\n",
      "COMICS   817657.2727272727\n",
      "COMMUNICATION   38456119.167247385\n",
      "DATING   854028.8303030303\n",
      "EDUCATION   1833495.145631068\n",
      "ENTERTAINMENT   11640705.88235294\n",
      "EVENTS   253542.22222222222\n",
      "FINANCE   1387692.475609756\n",
      "FOOD_AND_DRINK   1924897.7363636363\n",
      "HEALTH_AND_FITNESS   4188821.9853479853\n",
      "HOUSE_AND_HOME   1331540.5616438356\n",
      "LIBRARIES_AND_DEMO   638503.734939759\n",
      "LIFESTYLE   1437816.2687861272\n",
      "GAME   15588015.603248259\n",
      "FAMILY   3697848.1731343283\n",
      "MEDICAL   120550.61980830671\n",
      "SOCIAL   23253652.127118643\n",
      "SHOPPING   7036877.311557789\n",
      "PHOTOGRAPHY   17840110.40229885\n",
      "SPORTS   3638640.1428571427\n",
      "TRAVEL_AND_LOCAL   13984077.710144928\n",
      "TOOLS   10801391.298666667\n",
      "PERSONALIZATION   5201482.6122448975\n",
      "PRODUCTIVITY   16787331.344927534\n",
      "PARENTING   542603.6206896552\n",
      "WEATHER   5074486.197183099\n",
      "VIDEO_PLAYERS   24727872.452830188\n",
      "NEWS_AND_MAGAZINES   9549178.467741935\n",
      "MAPS_AND_NAVIGATION   4056941.7741935486\n"
     ]
    }
   ],
   "source": [
    "# Display average number of ratings for each category for Apple\n",
    "g_uniqgen = freq_table(g_cleanfreeng,1)\n",
    "for category in g_uniqgen:\n",
    "    total = 0\n",
    "    len_category = 0\n",
    "    for row in g_cleanfreeng:\n",
    "        category_app = row[1]\n",
    "        if category_app == category:\n",
    "            install_count = row[5]\n",
    "            install_count = install_count.replace('+','')\n",
    "            install_count = install_count.replace(',','')\n",
    "            install_count = float(install_count)\n",
    "            total += install_count\n",
    "            len_category += 1\n",
    "    \n",
    "    avg_num_install = total / len_category\n",
    "    print(category,\" \",avg_num_install)"
   ]
  }
 ],
 "metadata": {
  "kernelspec": {
   "display_name": "Python 3",
   "language": "python",
   "name": "python3"
  },
  "language_info": {
   "codemirror_mode": {
    "name": "ipython",
    "version": 3
   },
   "file_extension": ".py",
   "mimetype": "text/x-python",
   "name": "python",
   "nbconvert_exporter": "python",
   "pygments_lexer": "ipython3",
   "version": "3.7.6"
  }
 },
 "nbformat": 4,
 "nbformat_minor": 2
}
